{
 "cells": [
  {
   "cell_type": "markdown",
   "id": "f75bbb93-bef8-4ec5-9e1d-1f6b07324055",
   "metadata": {},
   "source": [
    "Update secondary data to contain the member field. This is nessesary after changes made in v0.4.5."
   ]
  },
  {
   "cell_type": "code",
   "execution_count": 1,
   "id": "10ee0198-cfdc-449b-8176-f5c9fb970ee2",
   "metadata": {},
   "outputs": [],
   "source": [
    "from teehr import Evaluation\n",
    "from pathlib import Path"
   ]
  },
  {
   "cell_type": "code",
   "execution_count": 2,
   "id": "6d1d6d40-a751-4bcb-8d88-506b1f1b6097",
   "metadata": {},
   "outputs": [],
   "source": [
    "TEST_STUDY_DIR = Path(\"/data/v0_4_evaluations/e2_camels_hourly_streamflow\")"
   ]
  },
  {
   "cell_type": "code",
   "execution_count": 3,
   "id": "5c680dc4-bd2d-4b25-acd8-9d19f4d718e2",
   "metadata": {},
   "outputs": [
    {
     "name": "stderr",
     "output_type": "stream",
     "text": [
      "Setting default log level to \"WARN\".\n",
      "To adjust logging level use sc.setLogLevel(newLevel). For SparkR, use setLogLevel(newLevel).\n",
      "24/12/30 18:07:10 WARN NativeCodeLoader: Unable to load native-hadoop library for your platform... using builtin-java classes where applicable\n"
     ]
    }
   ],
   "source": [
    "# Create an Evaluation object\n",
    "ev = Evaluation(dir_path=TEST_STUDY_DIR)"
   ]
  },
  {
   "cell_type": "code",
   "execution_count": 4,
   "id": "d39b08ce-d687-49a4-a75d-8e01027239b3",
   "metadata": {},
   "outputs": [
    {
     "name": "stderr",
     "output_type": "stream",
     "text": [
      "                                                                                \r"
     ]
    }
   ],
   "source": [
    "sdf = ev.secondary_timeseries.to_sdf()\n",
    "validated_sdf = ev.secondary_timeseries._validate(sdf, add_missing_columns=True)\n",
    "ev.secondary_timeseries._write_spark_df(validated_sdf)"
   ]
  },
  {
   "cell_type": "code",
   "execution_count": 5,
   "id": "42d90325-55c1-4ff5-a0cc-39ffe431fdda",
   "metadata": {},
   "outputs": [
    {
     "name": "stderr",
     "output_type": "stream",
     "text": [
      "24/12/30 18:07:49 WARN SparkStringUtils: Truncated the string representation of a plan since it was too large. This behavior can be adjusted by setting 'spark.sql.debug.maxToStringFields'.\n",
      "                                                                                \r"
     ]
    }
   ],
   "source": [
    "# Create the joined timeseries\n",
    "ev.joined_timeseries.create(execute_udf=True, add_attrs=True)"
   ]
  },
  {
   "cell_type": "code",
   "execution_count": 6,
   "id": "6f39045e-2124-4fc0-aaa6-0e564a23d31f",
   "metadata": {},
   "outputs": [],
   "source": [
    "ev.spark.stop()"
   ]
  },
  {
   "cell_type": "code",
   "execution_count": null,
   "id": "4558a5b1-e5cc-49b5-b52f-4288f1366eaa",
   "metadata": {},
   "outputs": [],
   "source": []
  }
 ],
 "metadata": {
  "kernelspec": {
   "display_name": "Python 3 (ipykernel)",
   "language": "python",
   "name": "python3"
  },
  "language_info": {
   "codemirror_mode": {
    "name": "ipython",
    "version": 3
   },
   "file_extension": ".py",
   "mimetype": "text/x-python",
   "name": "python",
   "nbconvert_exporter": "python",
   "pygments_lexer": "ipython3",
   "version": "3.12.6"
  }
 },
 "nbformat": 4,
 "nbformat_minor": 5
}

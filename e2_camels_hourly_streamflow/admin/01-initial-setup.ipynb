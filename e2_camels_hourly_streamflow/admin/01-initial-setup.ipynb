{
 "cells": [
  {
   "cell_type": "code",
   "execution_count": 1,
   "metadata": {},
   "outputs": [],
   "source": [
    "from teehr import Evaluation\n",
    "from pathlib import Path\n",
    "import shutil\n",
    "import xarray as xr\n",
    "import geopandas as gpd\n",
    "from teehr.models.tables import (\n",
    "    Attribute,\n",
    "    Configuration,\n",
    "    Variable\n",
    ")\n",
    "import duckdb"
   ]
  },
  {
   "cell_type": "code",
   "execution_count": 2,
   "metadata": {},
   "outputs": [],
   "source": [
    "# Set a path to the directory where the evaluation will be created\n",
    "TEST_STUDY_DIR = Path(\"/data/v0_4_protocols/p2_camels_hourly_streamflow\")\n",
    "shutil.rmtree(TEST_STUDY_DIR, ignore_errors=True)\n",
    "TEST_STUDY_DIR.mkdir(parents=True, exist_ok=True)"
   ]
  },
  {
   "cell_type": "code",
   "execution_count": 3,
   "metadata": {},
   "outputs": [],
   "source": [
    "# Set a path to the directory where the test data is stored\n",
    "TEST_DATA_DIR = Path(\"/data/protocols/p2_hourly_streamflow_sim/teehr_database\")\n",
    "LOCATIONS_FILEPATH = Path(TEST_DATA_DIR, \"geometry\", \"usgs_point_geometry.p2.parquet\")\n",
    "PRIMARY_TIMESERIES_FILEPATH = Path(TEST_DATA_DIR, \"primary\")\n",
    "CROSSWALK_FILEPATH = Path(TEST_DATA_DIR, \"crosswalks\")\n",
    "SECONDARY_TIMESERIES_FILEPATH = Path(TEST_DATA_DIR, \"secondary\")\n",
    "ATTR_FILEPATH = Path(TEST_DATA_DIR, \"attributes\")"
   ]
  },
  {
   "cell_type": "code",
   "execution_count": 4,
   "metadata": {},
   "outputs": [
    {
     "name": "stderr",
     "output_type": "stream",
     "text": [
      "Setting default log level to \"WARN\".\n",
      "To adjust logging level use sc.setLogLevel(newLevel). For SparkR, use setLogLevel(newLevel).\n",
      "24/10/29 18:18:38 WARN NativeCodeLoader: Unable to load native-hadoop library for your platform... using builtin-java classes where applicable\n",
      "24/10/29 18:18:39 WARN Utils: Service 'SparkUI' could not bind on port 4040. Attempting port 4041.\n"
     ]
    }
   ],
   "source": [
    "# Create an Evaluation object\n",
    "ev = Evaluation(dir_path=TEST_STUDY_DIR)\n",
    "\n",
    "# Enable logging\n",
    "ev.enable_logging()\n",
    "\n",
    "# Clone the template\n",
    "ev.clone_template()"
   ]
  },
  {
   "cell_type": "code",
   "execution_count": 5,
   "metadata": {},
   "outputs": [
    {
     "data": {
      "text/plain": [
       "<teehr.evaluation.tables.LocationTable at 0x7fd9aa82e8a0>"
      ]
     },
     "execution_count": 5,
     "metadata": {},
     "output_type": "execute_result"
    }
   ],
   "source": [
    "# Load the location data (observations)\n",
    "ev.locations.load_spatial(in_path=LOCATIONS_FILEPATH)"
   ]
  },
  {
   "cell_type": "code",
   "execution_count": 6,
   "metadata": {},
   "outputs": [
    {
     "data": {
      "text/html": [
       "<div>\n",
       "<style scoped>\n",
       "    .dataframe tbody tr th:only-of-type {\n",
       "        vertical-align: middle;\n",
       "    }\n",
       "\n",
       "    .dataframe tbody tr th {\n",
       "        vertical-align: top;\n",
       "    }\n",
       "\n",
       "    .dataframe thead th {\n",
       "        text-align: right;\n",
       "    }\n",
       "</style>\n",
       "<table border=\"1\" class=\"dataframe\">\n",
       "  <thead>\n",
       "    <tr style=\"text-align: right;\">\n",
       "      <th></th>\n",
       "      <th>id</th>\n",
       "      <th>name</th>\n",
       "      <th>geometry</th>\n",
       "    </tr>\n",
       "  </thead>\n",
       "  <tbody>\n",
       "    <tr>\n",
       "      <th>0</th>\n",
       "      <td>usgs-01013500</td>\n",
       "      <td>Fish River near Fort Kent, Maine</td>\n",
       "      <td>POINT (-68.58278 47.23750)</td>\n",
       "    </tr>\n",
       "    <tr>\n",
       "      <th>1</th>\n",
       "      <td>usgs-01022500</td>\n",
       "      <td>Narraguagus River at Cherryfield, Maine</td>\n",
       "      <td>POINT (-67.93528 44.60806)</td>\n",
       "    </tr>\n",
       "    <tr>\n",
       "      <th>2</th>\n",
       "      <td>usgs-01030500</td>\n",
       "      <td>Mattawamkeag River near Mattawamkeag, Maine</td>\n",
       "      <td>POINT (-68.30583 45.50111)</td>\n",
       "    </tr>\n",
       "    <tr>\n",
       "      <th>3</th>\n",
       "      <td>usgs-01031500</td>\n",
       "      <td>Piscataquis River near Dover-Foxcroft, Maine</td>\n",
       "      <td>POINT (-69.31472 45.17500)</td>\n",
       "    </tr>\n",
       "    <tr>\n",
       "      <th>4</th>\n",
       "      <td>usgs-01047000</td>\n",
       "      <td>Carrabassett River near North Anson, Maine</td>\n",
       "      <td>POINT (-69.95500 44.86917)</td>\n",
       "    </tr>\n",
       "  </tbody>\n",
       "</table>\n",
       "</div>"
      ],
      "text/plain": [
       "              id                                          name  \\\n",
       "0  usgs-01013500              Fish River near Fort Kent, Maine   \n",
       "1  usgs-01022500       Narraguagus River at Cherryfield, Maine   \n",
       "2  usgs-01030500   Mattawamkeag River near Mattawamkeag, Maine   \n",
       "3  usgs-01031500  Piscataquis River near Dover-Foxcroft, Maine   \n",
       "4  usgs-01047000    Carrabassett River near North Anson, Maine   \n",
       "\n",
       "                     geometry  \n",
       "0  POINT (-68.58278 47.23750)  \n",
       "1  POINT (-67.93528 44.60806)  \n",
       "2  POINT (-68.30583 45.50111)  \n",
       "3  POINT (-69.31472 45.17500)  \n",
       "4  POINT (-69.95500 44.86917)  "
      ]
     },
     "execution_count": 6,
     "metadata": {},
     "output_type": "execute_result"
    }
   ],
   "source": [
    "ev.locations.to_geopandas().head()"
   ]
  },
  {
   "cell_type": "code",
   "execution_count": 7,
   "metadata": {},
   "outputs": [
    {
     "name": "stderr",
     "output_type": "stream",
     "text": [
      "                                                                                \r"
     ]
    },
    {
     "data": {
      "text/plain": [
       "<teehr.evaluation.tables.PrimaryTimeseriesTable at 0x7fd8b84a4560>"
      ]
     },
     "execution_count": 7,
     "metadata": {},
     "output_type": "execute_result"
    }
   ],
   "source": [
    "# Load the timeseries data and map over the fields and set constants\n",
    "ev.primary_timeseries.load_parquet(\n",
    "    in_path=PRIMARY_TIMESERIES_FILEPATH,\n",
    "    field_mapping={\n",
    "        \"reference_time\": \"reference_time\",\n",
    "        \"value_time\": \"value_time\",\n",
    "        \"configuration\": \"configuration_name\",\n",
    "        \"measurement_unit\": \"unit_name\",\n",
    "        \"variable_name\": \"variable_name\",\n",
    "        \"value\": \"value\",\n",
    "        \"location_id\": \"location_id\"\n",
    "    },\n",
    "    constant_field_values={\n",
    "        \"unit_name\": \"m^3/s\",\n",
    "        \"configuration_name\": \"usgs_observations\"\n",
    "    }\n",
    ")"
   ]
  },
  {
   "cell_type": "code",
   "execution_count": 8,
   "metadata": {},
   "outputs": [
    {
     "data": {
      "text/plain": [
       "<teehr.evaluation.tables.LocationCrosswalkTable at 0x7fd8b84a6900>"
      ]
     },
     "execution_count": 8,
     "metadata": {},
     "output_type": "execute_result"
    }
   ],
   "source": [
    "# Load the crosswalk data\n",
    "ev.location_crosswalks.load_parquet(\n",
    "    in_path=CROSSWALK_FILEPATH\n",
    ")"
   ]
  },
  {
   "cell_type": "code",
   "execution_count": 9,
   "metadata": {},
   "outputs": [
    {
     "name": "stderr",
     "output_type": "stream",
     "text": [
      "                                                                                \r"
     ]
    },
    {
     "data": {
      "text/plain": [
       "<teehr.evaluation.tables.SecondaryTimeseriesTable at 0x7fd88a7b0b90>"
      ]
     },
     "execution_count": 9,
     "metadata": {},
     "output_type": "execute_result"
    }
   ],
   "source": [
    "# Load the secondary timeseries data and map over the fields and set constants\n",
    "ev.secondary_timeseries.load_parquet(\n",
    "    in_path=SECONDARY_TIMESERIES_FILEPATH,\n",
    "    field_mapping={\n",
    "        \"reference_time\": \"reference_time\",\n",
    "        \"value_time\": \"value_time\",\n",
    "        \"configuration\": \"configuration_name\",\n",
    "        \"measurement_unit\": \"unit_name\",\n",
    "        \"variable_name\": \"variable_name\",\n",
    "        \"value\": \"value\",\n",
    "        \"location_id\": \"location_id\"\n",
    "    },\n",
    "    constant_field_values={\n",
    "        \"unit_name\": \"m^3/s\",\n",
    "        \"configuration_name\": \"nwm30_retrospective\"\n",
    "    }\n",
    ")"
   ]
  },
  {
   "cell_type": "code",
   "execution_count": 10,
   "metadata": {},
   "outputs": [],
   "source": [
    "ev.configurations.add(\n",
    "    configuration=Configuration(\n",
    "        name=\"marrmot_37_hbv_obj1\",\n",
    "        type=\"secondary\",\n",
    "        description=\"marrmot_37_hbv_obj1\"\n",
    "    )\n",
    ")"
   ]
  },
  {
   "cell_type": "code",
   "execution_count": 11,
   "metadata": {},
   "outputs": [
    {
     "name": "stderr",
     "output_type": "stream",
     "text": [
      "                                                                                \r"
     ]
    },
    {
     "data": {
      "text/plain": [
       "<teehr.evaluation.tables.SecondaryTimeseriesTable at 0x7fd88a7470b0>"
      ]
     },
     "execution_count": 11,
     "metadata": {},
     "output_type": "execute_result"
    }
   ],
   "source": [
    "# Load the secondary timeseries data and map over the fields and set constants\n",
    "ev.secondary_timeseries.load_parquet(\n",
    "    # in_path=SECONDARY_TIMESERIES_FILEPATH,\n",
    "    in_path=\"/data/protocols/p1_daily_streamflow_sim/teehr_database/secondary/configuration=marrmot_37_hbv_obj1/variable_name=streamflow_daily_mean/marrmot_37_hbv_obj1.parquet\",\n",
    "    field_mapping={\n",
    "        \"reference_time\": \"reference_time\",\n",
    "        \"value_time\": \"value_time\",\n",
    "        \"configuration\": \"configuration_name\",\n",
    "        \"measurement_unit\": \"unit_name\",\n",
    "        \"variable_name\": \"variable_name\",\n",
    "        \"value\": \"value\",\n",
    "        \"location_id\": \"location_id\"\n",
    "    },\n",
    "    constant_field_values={\n",
    "        \"unit_name\": \"m^3/s\",\n",
    "    }\n",
    ")"
   ]
  },
  {
   "cell_type": "code",
   "execution_count": 12,
   "metadata": {},
   "outputs": [],
   "source": [
    "df = duckdb.query(\n",
    "    f\"SELECT distinct(attribute_name) FROM read_parquet('{ATTR_FILEPATH}/**/*.parquet');\"\n",
    ").to_df()\n",
    "attrs_list = [Attribute(name=i,type=\"categorical\", description=i) for i in list(df.attribute_name)]"
   ]
  },
  {
   "cell_type": "code",
   "execution_count": 13,
   "metadata": {},
   "outputs": [],
   "source": [
    "# Add some attributes\n",
    "ev.attributes.add(attrs_list)"
   ]
  },
  {
   "cell_type": "code",
   "execution_count": 14,
   "metadata": {},
   "outputs": [
    {
     "data": {
      "text/plain": [
       "<teehr.evaluation.tables.LocationAttributeTable at 0x7fd88a2524b0>"
      ]
     },
     "execution_count": 14,
     "metadata": {},
     "output_type": "execute_result"
    }
   ],
   "source": [
    "# Load the location attribute data\n",
    "ev.location_attributes.load_parquet(\n",
    "    in_path=ATTR_FILEPATH,\n",
    "    field_mapping={\"attribute_value\": \"value\"},\n",
    "    # pattern=\"test_attr_*.parquet\",\n",
    ")"
   ]
  },
  {
   "cell_type": "code",
   "execution_count": 15,
   "metadata": {},
   "outputs": [
    {
     "name": "stderr",
     "output_type": "stream",
     "text": [
      "24/10/29 18:22:11 WARN SparkStringUtils: Truncated the string representation of a plan since it was too large. This behavior can be adjusted by setting 'spark.sql.debug.maxToStringFields'.\n",
      "                                                                                \r"
     ]
    },
    {
     "data": {
      "text/plain": [
       "<teehr.evaluation.tables.JoinedTimeseriesTable at 0x7fd88a22d6d0>"
      ]
     },
     "execution_count": 15,
     "metadata": {},
     "output_type": "execute_result"
    }
   ],
   "source": [
    "# Create the joined timeseries\n",
    "ev.joined_timeseries.create(execute_udf=True)"
   ]
  },
  {
   "cell_type": "code",
   "execution_count": 16,
   "metadata": {},
   "outputs": [],
   "source": [
    "ev.spark.stop()"
   ]
  },
  {
   "cell_type": "code",
   "execution_count": null,
   "metadata": {},
   "outputs": [],
   "source": []
  }
 ],
 "metadata": {
  "kernelspec": {
   "display_name": "Python 3 (ipykernel)",
   "language": "python",
   "name": "python3"
  },
  "language_info": {
   "codemirror_mode": {
    "name": "ipython",
    "version": 3
   },
   "file_extension": ".py",
   "mimetype": "text/x-python",
   "name": "python",
   "nbconvert_exporter": "python",
   "pygments_lexer": "ipython3",
   "version": "3.12.6"
  }
 },
 "nbformat": 4,
 "nbformat_minor": 4
}

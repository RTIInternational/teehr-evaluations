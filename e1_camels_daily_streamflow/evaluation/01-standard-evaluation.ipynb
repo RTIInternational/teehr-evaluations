{
 "cells": [
  {
   "cell_type": "markdown",
   "id": "38c466cd-e3e4-4db0-ab9e-b3ba669d4305",
   "metadata": {},
   "source": [
    "# Standard Camels Daily Streamflow Evaluation"
   ]
  },
  {
   "cell_type": "code",
   "execution_count": 1,
   "id": "ab376921-7776-4ff3-959a-37e16c820613",
   "metadata": {},
   "outputs": [
    {
     "name": "stderr",
     "output_type": "stream",
     "text": [
      "Setting default log level to \"WARN\".\n",
      "To adjust logging level use sc.setLogLevel(newLevel). For SparkR, use setLogLevel(newLevel).\n",
      "25/01/02 18:44:26 WARN NativeCodeLoader: Unable to load native-hadoop library for your platform... using builtin-java classes where applicable\n"
     ]
    }
   ],
   "source": [
    "# import teehr\n",
    "import teehr\n",
    "\n",
    "# Create an Evaluation object to read from S3 bucket.\n",
    "ev = teehr.Evaluation(dir_path=\"s3a://ciroh-rti-public-data/teehr-data-warehouse/v0_4_evaluations/e1_camels_daily_streamflow\")"
   ]
  },
  {
   "cell_type": "code",
   "execution_count": 2,
   "id": "f8f50927-fb55-4b2f-8091-5c69dfbdf19f",
   "metadata": {},
   "outputs": [
    {
     "name": "stderr",
     "output_type": "stream",
     "text": [
      "25/01/02 18:44:30 WARN MetricsConfig: Cannot locate configuration: tried hadoop-metrics2-s3a-file-system.properties,hadoop-metrics2.properties\n",
      "                                                                                \r"
     ]
    },
    {
     "name": "stdout",
     "output_type": "stream",
     "text": [
      "CPU times: user 49.9 ms, sys: 5.19 ms, total: 55.1 ms\n",
      "Wall time: 18.2 s\n"
     ]
    },
    {
     "data": {
      "text/html": [
       "<div>\n",
       "<style scoped>\n",
       "    .dataframe tbody tr th:only-of-type {\n",
       "        vertical-align: middle;\n",
       "    }\n",
       "\n",
       "    .dataframe tbody tr th {\n",
       "        vertical-align: top;\n",
       "    }\n",
       "\n",
       "    .dataframe thead th {\n",
       "        text-align: right;\n",
       "    }\n",
       "</style>\n",
       "<table border=\"1\" class=\"dataframe\">\n",
       "  <thead>\n",
       "    <tr style=\"text-align: right;\">\n",
       "      <th></th>\n",
       "      <th>primary_location_id</th>\n",
       "      <th>kling_gupta_efficiency</th>\n",
       "      <th>nash_sutcliffe_efficiency</th>\n",
       "      <th>relative_bias</th>\n",
       "    </tr>\n",
       "  </thead>\n",
       "  <tbody>\n",
       "    <tr>\n",
       "      <th>0</th>\n",
       "      <td>usgs-01013500</td>\n",
       "      <td>0.702199</td>\n",
       "      <td>0.626305</td>\n",
       "      <td>-0.023915</td>\n",
       "    </tr>\n",
       "    <tr>\n",
       "      <th>1</th>\n",
       "      <td>usgs-01022500</td>\n",
       "      <td>0.650919</td>\n",
       "      <td>0.607995</td>\n",
       "      <td>-0.218546</td>\n",
       "    </tr>\n",
       "    <tr>\n",
       "      <th>2</th>\n",
       "      <td>usgs-01030500</td>\n",
       "      <td>0.765040</td>\n",
       "      <td>0.698904</td>\n",
       "      <td>-0.095426</td>\n",
       "    </tr>\n",
       "    <tr>\n",
       "      <th>3</th>\n",
       "      <td>usgs-01031500</td>\n",
       "      <td>0.706494</td>\n",
       "      <td>0.565260</td>\n",
       "      <td>-0.084880</td>\n",
       "    </tr>\n",
       "    <tr>\n",
       "      <th>4</th>\n",
       "      <td>usgs-01047000</td>\n",
       "      <td>0.709120</td>\n",
       "      <td>0.489747</td>\n",
       "      <td>-0.038580</td>\n",
       "    </tr>\n",
       "    <tr>\n",
       "      <th>...</th>\n",
       "      <td>...</td>\n",
       "      <td>...</td>\n",
       "      <td>...</td>\n",
       "      <td>...</td>\n",
       "    </tr>\n",
       "    <tr>\n",
       "      <th>538</th>\n",
       "      <td>usgs-14216500</td>\n",
       "      <td>0.797876</td>\n",
       "      <td>0.672765</td>\n",
       "      <td>-0.058761</td>\n",
       "    </tr>\n",
       "    <tr>\n",
       "      <th>539</th>\n",
       "      <td>usgs-14236200</td>\n",
       "      <td>0.787063</td>\n",
       "      <td>0.624553</td>\n",
       "      <td>-0.071729</td>\n",
       "    </tr>\n",
       "    <tr>\n",
       "      <th>540</th>\n",
       "      <td>usgs-14303200</td>\n",
       "      <td>0.729304</td>\n",
       "      <td>0.486604</td>\n",
       "      <td>0.078435</td>\n",
       "    </tr>\n",
       "    <tr>\n",
       "      <th>541</th>\n",
       "      <td>usgs-14305500</td>\n",
       "      <td>0.758651</td>\n",
       "      <td>0.670271</td>\n",
       "      <td>-0.083956</td>\n",
       "    </tr>\n",
       "    <tr>\n",
       "      <th>542</th>\n",
       "      <td>usgs-14316700</td>\n",
       "      <td>0.817156</td>\n",
       "      <td>0.667066</td>\n",
       "      <td>-0.007225</td>\n",
       "    </tr>\n",
       "  </tbody>\n",
       "</table>\n",
       "<p>543 rows × 4 columns</p>\n",
       "</div>"
      ],
      "text/plain": [
       "    primary_location_id  kling_gupta_efficiency  nash_sutcliffe_efficiency  \\\n",
       "0         usgs-01013500                0.702199                   0.626305   \n",
       "1         usgs-01022500                0.650919                   0.607995   \n",
       "2         usgs-01030500                0.765040                   0.698904   \n",
       "3         usgs-01031500                0.706494                   0.565260   \n",
       "4         usgs-01047000                0.709120                   0.489747   \n",
       "..                  ...                     ...                        ...   \n",
       "538       usgs-14216500                0.797876                   0.672765   \n",
       "539       usgs-14236200                0.787063                   0.624553   \n",
       "540       usgs-14303200                0.729304                   0.486604   \n",
       "541       usgs-14305500                0.758651                   0.670271   \n",
       "542       usgs-14316700                0.817156                   0.667066   \n",
       "\n",
       "     relative_bias  \n",
       "0        -0.023915  \n",
       "1        -0.218546  \n",
       "2        -0.095426  \n",
       "3        -0.084880  \n",
       "4        -0.038580  \n",
       "..             ...  \n",
       "538      -0.058761  \n",
       "539      -0.071729  \n",
       "540       0.078435  \n",
       "541      -0.083956  \n",
       "542      -0.007225  \n",
       "\n",
       "[543 rows x 4 columns]"
      ]
     },
     "execution_count": 2,
     "metadata": {},
     "output_type": "execute_result"
    }
   ],
   "source": [
    "%%time\n",
    "ev.metrics.query(\n",
    "    order_by=[\"primary_location_id\"],\n",
    "    group_by=[\"primary_location_id\"],\n",
    "    include_metrics=[\n",
    "        teehr.Metrics.KlingGuptaEfficiency(),\n",
    "        teehr.Metrics.NashSutcliffeEfficiency(),\n",
    "        teehr.Metrics.RelativeBias()\n",
    "    ]\n",
    ").to_pandas()"
   ]
  },
  {
   "cell_type": "code",
   "execution_count": null,
   "id": "1172cc1e-f5f0-4bbe-8994-f11d31b8b53f",
   "metadata": {},
   "outputs": [],
   "source": []
  }
 ],
 "metadata": {
  "kernelspec": {
   "display_name": "Python 3 (ipykernel)",
   "language": "python",
   "name": "python3"
  },
  "language_info": {
   "codemirror_mode": {
    "name": "ipython",
    "version": 3
   },
   "file_extension": ".py",
   "mimetype": "text/x-python",
   "name": "python",
   "nbconvert_exporter": "python",
   "pygments_lexer": "ipython3",
   "version": "3.12.6"
  }
 },
 "nbformat": 4,
 "nbformat_minor": 5
}

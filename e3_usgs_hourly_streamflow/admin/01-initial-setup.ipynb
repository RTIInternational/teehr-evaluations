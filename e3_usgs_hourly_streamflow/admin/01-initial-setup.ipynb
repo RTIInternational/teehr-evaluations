{
 "cells": [
  {
   "cell_type": "code",
   "execution_count": 1,
   "metadata": {},
   "outputs": [],
   "source": [
    "from teehr import Evaluation\n",
    "from pathlib import Path\n",
    "import shutil\n",
    "import xarray as xr\n",
    "import geopandas as gpd\n",
    "from teehr.models.tables import (\n",
    "    Attribute,\n",
    "    Configuration,\n",
    "    Variable\n",
    ")\n",
    "import duckdb"
   ]
  },
  {
   "cell_type": "code",
   "execution_count": 2,
   "metadata": {},
   "outputs": [],
   "source": [
    "# Set a path to the directory where the evaluation will be created\n",
    "TEST_STUDY_DIR = Path(\"/data/v0_4_protocols/p3_retro_hourly_streamflow\")\n",
    "# shutil.rmtree(TEST_STUDY_DIR, ignore_errors=True)\n",
    "# TEST_STUDY_DIR.mkdir(parents=True, exist_ok=True)"
   ]
  },
  {
   "cell_type": "code",
   "execution_count": 3,
   "metadata": {},
   "outputs": [],
   "source": [
    "# Set a path to the directory where the test data is stored\n",
    "TEST_DATA_DIR = Path(\"/data/common/\")\n",
    "LOCATIONS_FILEPATH = Path(TEST_DATA_DIR, \"geometry/usgs_point_geometry.all.parquet\")\n",
    "PRIMARY_TIMESERIES_FILEPATH = Path(TEST_DATA_DIR, \"observations/usgs_conus/streamflow_hourly_inst\")\n",
    "CROSSWALK_FILEPATH = Path(TEST_DATA_DIR, \"crosswalks/usgs_nwm30_crosswalk.conus.parquet\")\n",
    "SECONDARY_TIMESERIES_FILEPATH = Path(TEST_DATA_DIR, \"baselines/nwm30_retrospective_conus/streamflow_hourly_inst\")\n",
    "ATTR_FILEPATH = Path(TEST_DATA_DIR, \"attributes\")"
   ]
  },
  {
   "cell_type": "code",
   "execution_count": 4,
   "metadata": {},
   "outputs": [
    {
     "name": "stderr",
     "output_type": "stream",
     "text": [
      "Setting default log level to \"WARN\".\n",
      "To adjust logging level use sc.setLogLevel(newLevel). For SparkR, use setLogLevel(newLevel).\n",
      "24/10/29 21:11:28 WARN NativeCodeLoader: Unable to load native-hadoop library for your platform... using builtin-java classes where applicable\n",
      "24/10/29 21:11:29 WARN SparkConf: Note that spark.local.dir will be overridden by the value set by the cluster manager (via SPARK_LOCAL_DIRS in mesos/standalone/kubernetes and LOCAL_DIRS in YARN).\n"
     ]
    }
   ],
   "source": [
    "from pyspark.sql import SparkSession\n",
    "from pyspark import SparkConf\n",
    "\n",
    "conf = (\n",
    "    SparkConf()\n",
    "    .setAppName(\"TEEHR\")\n",
    "    .setMaster(\"local[*]\")\n",
    "    .set(\"spark.sql.sources.partitionOverwriteMode\", \"dynamic\")\n",
    "    .set(\"spark.local.dir\", \"/data/tmp\")\n",
    ")\n",
    "spark = SparkSession.builder.config(conf=conf).getOrCreate()"
   ]
  },
  {
   "cell_type": "code",
   "execution_count": 5,
   "metadata": {},
   "outputs": [],
   "source": [
    "# Create an Evaluation object\n",
    "ev = Evaluation(dir_path=TEST_STUDY_DIR, spark=spark)\n",
    "\n",
    "# Enable logging\n",
    "ev.enable_logging()\n",
    "\n",
    "# Clone the template\n",
    "# ev.clone_template()"
   ]
  },
  {
   "cell_type": "code",
   "execution_count": 6,
   "metadata": {},
   "outputs": [
    {
     "data": {
      "text/plain": [
       "<teehr.evaluation.tables.LocationTable at 0x7f9ec3f7fc20>"
      ]
     },
     "execution_count": 6,
     "metadata": {},
     "output_type": "execute_result"
    }
   ],
   "source": [
    "# Load the location data (observations)\n",
    "ev.locations.load_spatial(in_path=LOCATIONS_FILEPATH)"
   ]
  },
  {
   "cell_type": "code",
   "execution_count": 7,
   "metadata": {},
   "outputs": [
    {
     "data": {
      "text/html": [
       "<div>\n",
       "<style scoped>\n",
       "    .dataframe tbody tr th:only-of-type {\n",
       "        vertical-align: middle;\n",
       "    }\n",
       "\n",
       "    .dataframe tbody tr th {\n",
       "        vertical-align: top;\n",
       "    }\n",
       "\n",
       "    .dataframe thead th {\n",
       "        text-align: right;\n",
       "    }\n",
       "</style>\n",
       "<table border=\"1\" class=\"dataframe\">\n",
       "  <thead>\n",
       "    <tr style=\"text-align: right;\">\n",
       "      <th></th>\n",
       "      <th>id</th>\n",
       "      <th>name</th>\n",
       "      <th>geometry</th>\n",
       "    </tr>\n",
       "  </thead>\n",
       "  <tbody>\n",
       "    <tr>\n",
       "      <th>0</th>\n",
       "      <td>usgs-01010000</td>\n",
       "      <td>St. John River at Ninemile Bridge, Maine</td>\n",
       "      <td>POINT (-69.71556 46.70056)</td>\n",
       "    </tr>\n",
       "    <tr>\n",
       "      <th>1</th>\n",
       "      <td>usgs-01010070</td>\n",
       "      <td>Big Black River near Depot Mtn, Maine</td>\n",
       "      <td>POINT (-69.75167 46.89389)</td>\n",
       "    </tr>\n",
       "    <tr>\n",
       "      <th>2</th>\n",
       "      <td>usgs-01010500</td>\n",
       "      <td>St. John River at Dickey, Maine</td>\n",
       "      <td>POINT (-69.08806 47.11306)</td>\n",
       "    </tr>\n",
       "    <tr>\n",
       "      <th>3</th>\n",
       "      <td>usgs-01011000</td>\n",
       "      <td>Allagash River near Allagash, Maine</td>\n",
       "      <td>POINT (-69.07944 47.06972)</td>\n",
       "    </tr>\n",
       "    <tr>\n",
       "      <th>4</th>\n",
       "      <td>usgs-01011500</td>\n",
       "      <td>St. Francis River near Connors, New Brunswick</td>\n",
       "      <td>POINT (-68.95643 47.20698)</td>\n",
       "    </tr>\n",
       "  </tbody>\n",
       "</table>\n",
       "</div>"
      ],
      "text/plain": [
       "              id                                           name  \\\n",
       "0  usgs-01010000       St. John River at Ninemile Bridge, Maine   \n",
       "1  usgs-01010070          Big Black River near Depot Mtn, Maine   \n",
       "2  usgs-01010500                St. John River at Dickey, Maine   \n",
       "3  usgs-01011000            Allagash River near Allagash, Maine   \n",
       "4  usgs-01011500  St. Francis River near Connors, New Brunswick   \n",
       "\n",
       "                     geometry  \n",
       "0  POINT (-69.71556 46.70056)  \n",
       "1  POINT (-69.75167 46.89389)  \n",
       "2  POINT (-69.08806 47.11306)  \n",
       "3  POINT (-69.07944 47.06972)  \n",
       "4  POINT (-68.95643 47.20698)  "
      ]
     },
     "execution_count": 7,
     "metadata": {},
     "output_type": "execute_result"
    }
   ],
   "source": [
    "ev.locations.to_geopandas().head()"
   ]
  },
  {
   "cell_type": "code",
   "execution_count": 8,
   "metadata": {},
   "outputs": [
    {
     "name": "stderr",
     "output_type": "stream",
     "text": [
      "                                                                                \r"
     ]
    },
    {
     "data": {
      "text/plain": [
       "<teehr.evaluation.tables.PrimaryTimeseriesTable at 0x7f9f5daac380>"
      ]
     },
     "execution_count": 8,
     "metadata": {},
     "output_type": "execute_result"
    }
   ],
   "source": [
    "# Load the timeseries data and map over the fields and set constants\n",
    "ev.primary_timeseries.load_parquet(\n",
    "    in_path=PRIMARY_TIMESERIES_FILEPATH,\n",
    "    field_mapping={\n",
    "        \"reference_time\": \"reference_time\",\n",
    "        \"value_time\": \"value_time\",\n",
    "        \"configuration\": \"configuration_name\",\n",
    "        \"measurement_unit\": \"unit_name\",\n",
    "        \"variable_name\": \"variable_name\",\n",
    "        \"value\": \"value\",\n",
    "        \"location_id\": \"location_id\"\n",
    "    },\n",
    "    constant_field_values={\n",
    "        \"unit_name\": \"m^3/s\",\n",
    "        \"configuration_name\": \"usgs_observations\",\n",
    "        \"variable_name\": \"streamflow_hourly_inst\"\n",
    "    }\n",
    ")"
   ]
  },
  {
   "cell_type": "code",
   "execution_count": 9,
   "metadata": {},
   "outputs": [
    {
     "name": "stderr",
     "output_type": "stream",
     "text": [
      "                                                                                \r"
     ]
    },
    {
     "data": {
      "text/plain": [
       "<teehr.evaluation.tables.LocationCrosswalkTable at 0x7f9fabec5a30>"
      ]
     },
     "execution_count": 9,
     "metadata": {},
     "output_type": "execute_result"
    }
   ],
   "source": [
    "# Load the crosswalk data\n",
    "ev.location_crosswalks.load_parquet(\n",
    "    in_path=CROSSWALK_FILEPATH\n",
    ")"
   ]
  },
  {
   "cell_type": "code",
   "execution_count": 10,
   "metadata": {},
   "outputs": [
    {
     "name": "stderr",
     "output_type": "stream",
     "text": [
      "                                                                                \r"
     ]
    },
    {
     "data": {
      "text/plain": [
       "<teehr.evaluation.tables.SecondaryTimeseriesTable at 0x7f9e92b40c50>"
      ]
     },
     "execution_count": 10,
     "metadata": {},
     "output_type": "execute_result"
    }
   ],
   "source": [
    "# Load the secondary timeseries data and map over the fields and set constants\n",
    "ev.secondary_timeseries.load_parquet(\n",
    "    in_path=SECONDARY_TIMESERIES_FILEPATH,\n",
    "    field_mapping={\n",
    "        \"reference_time\": \"reference_time\",\n",
    "        \"value_time\": \"value_time\",\n",
    "        \"configuration\": \"configuration_name\",\n",
    "        \"measurement_unit\": \"unit_name\",\n",
    "        \"variable_name\": \"variable_name\",\n",
    "        \"value\": \"value\",\n",
    "        \"location_id\": \"location_id\"\n",
    "    },\n",
    "    constant_field_values={\n",
    "        \"unit_name\": \"m^3/s\",\n",
    "        \"configuration_name\": \"nwm30_retrospective\",\n",
    "        \"variable_name\": \"streamflow_hourly_inst\"\n",
    "    }\n",
    ")"
   ]
  },
  {
   "cell_type": "code",
   "execution_count": 11,
   "metadata": {},
   "outputs": [
    {
     "data": {
      "text/plain": [
       "[Attribute(name='retro_10yr_recurrence_flow', type='categorical', description='retro_10yr_recurrence_flow'),\n",
       " Attribute(name='ecoregion_L2', type='categorical', description='ecoregion_L2'),\n",
       " Attribute(name='river_forecast_center', type='categorical', description='river_forecast_center'),\n",
       " Attribute(name='NWM_waterbody_dam_lengths', type='categorical', description='NWM_waterbody_dam_lengths'),\n",
       " Attribute(name='NID_dam_lengths', type='categorical', description='NID_dam_lengths'),\n",
       " Attribute(name='retro_2yr_recurrence_flow', type='categorical', description='retro_2yr_recurrence_flow'),\n",
       " Attribute(name='retro_100yr_recurrence_flow', type='categorical', description='retro_100yr_recurrence_flow'),\n",
       " Attribute(name='stream_order', type='categorical', description='stream_order')]"
      ]
     },
     "execution_count": 11,
     "metadata": {},
     "output_type": "execute_result"
    }
   ],
   "source": [
    "df = duckdb.query(\n",
    "    f\"SELECT distinct(attribute_name) FROM read_parquet('{ATTR_FILEPATH}/**/usgs_point_attr*.conus.parquet');\"\n",
    ").to_df()\n",
    "attrs_list = [Attribute(name=i,type=\"categorical\", description=i) for i in list(df.attribute_name)]\n",
    "attrs_list"
   ]
  },
  {
   "cell_type": "code",
   "execution_count": 12,
   "metadata": {},
   "outputs": [],
   "source": [
    "# Add some attributes\n",
    "ev.attributes.add(attrs_list)"
   ]
  },
  {
   "cell_type": "code",
   "execution_count": 23,
   "metadata": {},
   "outputs": [],
   "source": [
    "# Load the location attribute data\n",
    "# ev.location_attributes.load_parquet(\n",
    "#     in_path=ATTR_FILEPATH,\n",
    "#     field_mapping={\"attribute_value\": \"value\"},\n",
    "#     pattern=\"usgs_point_attr*.conus.parquet\",\n",
    "# )"
   ]
  },
  {
   "cell_type": "code",
   "execution_count": 6,
   "metadata": {},
   "outputs": [
    {
     "name": "stderr",
     "output_type": "stream",
     "text": [
      "                                                                                \r"
     ]
    },
    {
     "name": "stdout",
     "output_type": "stream",
     "text": [
      "CPU times: user 591 ms, sys: 161 ms, total: 751 ms\n",
      "Wall time: 1h 15min 38s\n"
     ]
    },
    {
     "data": {
      "text/plain": [
       "<teehr.evaluation.tables.JoinedTimeseriesTable at 0x7f071294c9e0>"
      ]
     },
     "execution_count": 6,
     "metadata": {},
     "output_type": "execute_result"
    }
   ],
   "source": [
    "%%time\n",
    "# Create the joined timeseries\n",
    "ev.joined_timeseries.create(execute_udf=True)"
   ]
  },
  {
   "cell_type": "code",
   "execution_count": null,
   "metadata": {},
   "outputs": [],
   "source": [
    "ev.spark.stop()"
   ]
  },
  {
   "cell_type": "code",
   "execution_count": null,
   "metadata": {},
   "outputs": [],
   "source": []
  }
 ],
 "metadata": {
  "kernelspec": {
   "display_name": "Python 3 (ipykernel)",
   "language": "python",
   "name": "python3"
  },
  "language_info": {
   "codemirror_mode": {
    "name": "ipython",
    "version": 3
   },
   "file_extension": ".py",
   "mimetype": "text/x-python",
   "name": "python",
   "nbconvert_exporter": "python",
   "pygments_lexer": "ipython3",
   "version": "3.12.6"
  }
 },
 "nbformat": 4,
 "nbformat_minor": 4
}
